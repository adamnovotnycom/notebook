{
 "cells": [
  {
   "cell_type": "markdown",
   "id": "18fbe003",
   "metadata": {
    "id": "yU1ggpxTKgNF",
    "papermill": {
     "duration": 0.002224,
     "end_time": "2023-12-28T01:12:45.885226",
     "exception": false,
     "start_time": "2023-12-28T01:12:45.883002",
     "status": "completed"
    },
    "tags": []
   },
   "source": [
    "## yfinance playground\n",
    "[yfinance github](https://github.com/ranaroussi/yfinance)"
   ]
  },
  {
   "cell_type": "code",
   "execution_count": 1,
   "id": "e1ce9f6a",
   "metadata": {
    "execution": {
     "iopub.execute_input": "2023-12-28T01:12:45.889556Z",
     "iopub.status.busy": "2023-12-28T01:12:45.889101Z",
     "iopub.status.idle": "2023-12-28T01:12:46.623229Z",
     "shell.execute_reply": "2023-12-28T01:12:46.622376Z"
    },
    "papermill": {
     "duration": 0.737834,
     "end_time": "2023-12-28T01:12:46.624680",
     "exception": false,
     "start_time": "2023-12-28T01:12:45.886846",
     "status": "completed"
    },
    "tags": []
   },
   "outputs": [
    {
     "name": "stdout",
     "output_type": "stream",
     "text": [
      "Requirement already satisfied: yfinance==0.2.33 in /usr/local/lib/python3.10/site-packages (0.2.33)\r\n",
      "Requirement already satisfied: multitasking>=0.0.7 in /usr/local/lib/python3.10/site-packages (from yfinance==0.2.33) (0.0.11)\r\n",
      "Requirement already satisfied: html5lib>=1.1 in /usr/local/lib/python3.10/site-packages (from yfinance==0.2.33) (1.1)\r\n",
      "Requirement already satisfied: peewee>=3.16.2 in /usr/local/lib/python3.10/site-packages (from yfinance==0.2.33) (3.17.0)\r\n",
      "Requirement already satisfied: requests>=2.31 in /usr/local/lib/python3.10/site-packages (from yfinance==0.2.33) (2.31.0)\r\n",
      "Requirement already satisfied: appdirs>=1.4.4 in /usr/local/lib/python3.10/site-packages (from yfinance==0.2.33) (1.4.4)\r\n",
      "Requirement already satisfied: pytz>=2022.5 in /usr/local/lib/python3.10/site-packages (from yfinance==0.2.33) (2023.3.post1)\r\n",
      "Requirement already satisfied: beautifulsoup4>=4.11.1 in /usr/local/lib/python3.10/site-packages (from yfinance==0.2.33) (4.12.2)\r\n"
     ]
    },
    {
     "name": "stdout",
     "output_type": "stream",
     "text": [
      "Requirement already satisfied: frozendict>=2.3.4 in /usr/local/lib/python3.10/site-packages (from yfinance==0.2.33) (2.3.10)\r\n",
      "Requirement already satisfied: lxml>=4.9.1 in /usr/local/lib/python3.10/site-packages (from yfinance==0.2.33) (4.9.4)\r\n",
      "Requirement already satisfied: numpy>=1.16.5 in /usr/local/lib/python3.10/site-packages (from yfinance==0.2.33) (1.26.2)\r\n",
      "Requirement already satisfied: pandas>=1.3.0 in /usr/local/lib/python3.10/site-packages (from yfinance==0.2.33) (2.1.4)\r\n",
      "Requirement already satisfied: soupsieve>1.2 in /usr/local/lib/python3.10/site-packages (from beautifulsoup4>=4.11.1->yfinance==0.2.33) (2.5)\r\n",
      "Requirement already satisfied: six>=1.9 in /usr/local/lib/python3.10/site-packages (from html5lib>=1.1->yfinance==0.2.33) (1.16.0)\r\n",
      "Requirement already satisfied: webencodings in /usr/local/lib/python3.10/site-packages (from html5lib>=1.1->yfinance==0.2.33) (0.5.1)\r\n",
      "Requirement already satisfied: tzdata>=2022.1 in /usr/local/lib/python3.10/site-packages (from pandas>=1.3.0->yfinance==0.2.33) (2023.3)\r\n",
      "Requirement already satisfied: python-dateutil>=2.8.2 in /usr/local/lib/python3.10/site-packages (from pandas>=1.3.0->yfinance==0.2.33) (2.8.2)\r\n",
      "Requirement already satisfied: urllib3<3,>=1.21.1 in /usr/local/lib/python3.10/site-packages (from requests>=2.31->yfinance==0.2.33) (2.1.0)\r\n",
      "Requirement already satisfied: charset-normalizer<4,>=2 in /usr/local/lib/python3.10/site-packages (from requests>=2.31->yfinance==0.2.33) (3.3.2)\r\n",
      "Requirement already satisfied: idna<4,>=2.5 in /usr/local/lib/python3.10/site-packages (from requests>=2.31->yfinance==0.2.33) (3.6)\r\n",
      "Requirement already satisfied: certifi>=2017.4.17 in /usr/local/lib/python3.10/site-packages (from requests>=2.31->yfinance==0.2.33) (2023.11.17)\r\n"
     ]
    },
    {
     "name": "stdout",
     "output_type": "stream",
     "text": [
      "\u001b[33mWARNING: Running pip as the 'root' user can result in broken permissions and conflicting behaviour with the system package manager. It is recommended to use a virtual environment instead: https://pip.pypa.io/warnings/venv\u001b[0m\u001b[33m\r\n",
      "\u001b[0m\r\n",
      "\u001b[1m[\u001b[0m\u001b[34;49mnotice\u001b[0m\u001b[1;39;49m]\u001b[0m\u001b[39;49m A new release of pip is available: \u001b[0m\u001b[31;49m23.0.1\u001b[0m\u001b[39;49m -> \u001b[0m\u001b[32;49m23.3.2\u001b[0m\r\n",
      "\u001b[1m[\u001b[0m\u001b[34;49mnotice\u001b[0m\u001b[1;39;49m]\u001b[0m\u001b[39;49m To update, run: \u001b[0m\u001b[32;49mpip install --upgrade pip\u001b[0m\r\n"
     ]
    },
    {
     "name": "stdout",
     "output_type": "stream",
     "text": [
      "Note: you may need to restart the kernel to use updated packages.\n"
     ]
    }
   ],
   "source": [
    "%pip install yfinance==0.2.33"
   ]
  },
  {
   "cell_type": "code",
   "execution_count": 2,
   "id": "2d962a04",
   "metadata": {
    "colab": {
     "base_uri": "https://localhost:8080/"
    },
    "execution": {
     "iopub.execute_input": "2023-12-28T01:12:46.630409Z",
     "iopub.status.busy": "2023-12-28T01:12:46.630216Z",
     "iopub.status.idle": "2023-12-28T01:12:47.036530Z",
     "shell.execute_reply": "2023-12-28T01:12:47.036115Z"
    },
    "id": "4WdizbatKoVF",
    "outputId": "c78a7466-7c26-415f-baeb-f79b6a0c3834",
    "papermill": {
     "duration": 0.41034,
     "end_time": "2023-12-28T01:12:47.037655",
     "exception": false,
     "start_time": "2023-12-28T01:12:46.627315",
     "status": "completed"
    },
    "tags": []
   },
   "outputs": [],
   "source": [
    "import os\n",
    "import yfinance as yf\n",
    "from pathlib import Path"
   ]
  },
  {
   "cell_type": "code",
   "execution_count": 3,
   "id": "8b64059b",
   "metadata": {
    "execution": {
     "iopub.execute_input": "2023-12-28T01:12:47.041867Z",
     "iopub.status.busy": "2023-12-28T01:12:47.041468Z",
     "iopub.status.idle": "2023-12-28T01:13:06.217540Z",
     "shell.execute_reply": "2023-12-28T01:13:06.216911Z"
    },
    "papermill": {
     "duration": 19.179845,
     "end_time": "2023-12-28T01:13:06.218946",
     "exception": false,
     "start_time": "2023-12-28T01:12:47.039101",
     "status": "completed"
    },
    "tags": []
   },
   "outputs": [
    {
     "name": "stdout",
     "output_type": "stream",
     "text": [
      "{'maxAge': 86400, 'priceHint': 2, 'previousClose': 74.11, 'open': 73.8, 'dayLow': 73.77, 'dayHigh': 74.21, 'regularMarketPreviousClose': 74.11, 'regularMarketOpen': 73.8, 'regularMarketDayLow': 73.77, 'regularMarketDayHigh': 74.21, 'volume': 3031, 'regularMarketVolume': 3031, 'averageVolume': 312985, 'averageVolume10days': 227725, 'averageDailyVolume10Day': 227725, 'bid': 74.14, 'ask': 74.18, 'askSize': 1100, 'expireDate': 1705881600, 'openInterest': 280667, 'fiftyTwoWeekLow': 63.64, 'fiftyTwoWeekHigh': 95.03, 'fiftyDayAverage': 77.32, 'twoHundredDayAverage': 77.6852, 'currency': 'USD', 'exchange': 'NYM', 'quoteType': 'FUTURE', 'symbol': 'CLG24.NYM', 'underlyingSymbol': 'CL=F', 'shortName': 'Crude Oil Feb 24', 'firstTradeDateEpochUtc': 967003200, 'timeZoneFullName': 'America/New_York', 'timeZoneShortName': 'EST', 'uuid': '2e63caf7-96c3-3195-95bd-9fdc98ac5dd3', 'gmtOffSetMilliseconds': -18000000, 'trailingPegRatio': None}\n"
     ]
    },
    {
     "data": {
      "text/html": [
       "<div>\n",
       "<style scoped>\n",
       "    .dataframe tbody tr th:only-of-type {\n",
       "        vertical-align: middle;\n",
       "    }\n",
       "\n",
       "    .dataframe tbody tr th {\n",
       "        vertical-align: top;\n",
       "    }\n",
       "\n",
       "    .dataframe thead th {\n",
       "        text-align: right;\n",
       "    }\n",
       "</style>\n",
       "<table border=\"1\" class=\"dataframe\">\n",
       "  <thead>\n",
       "    <tr style=\"text-align: right;\">\n",
       "      <th></th>\n",
       "      <th>Open</th>\n",
       "      <th>High</th>\n",
       "      <th>Low</th>\n",
       "      <th>Close</th>\n",
       "      <th>Volume</th>\n",
       "      <th>Dividends</th>\n",
       "      <th>Stock Splits</th>\n",
       "    </tr>\n",
       "    <tr>\n",
       "      <th>Date</th>\n",
       "      <th></th>\n",
       "      <th></th>\n",
       "      <th></th>\n",
       "      <th></th>\n",
       "      <th></th>\n",
       "      <th></th>\n",
       "      <th></th>\n",
       "    </tr>\n",
       "  </thead>\n",
       "  <tbody>\n",
       "    <tr>\n",
       "      <th>2023-12-13 00:00:00-05:00</th>\n",
       "      <td>68.730003</td>\n",
       "      <td>69.889999</td>\n",
       "      <td>67.709999</td>\n",
       "      <td>69.470001</td>\n",
       "      <td>306996</td>\n",
       "      <td>0.0</td>\n",
       "      <td>0.0</td>\n",
       "    </tr>\n",
       "    <tr>\n",
       "      <th>2023-12-14 00:00:00-05:00</th>\n",
       "      <td>69.849998</td>\n",
       "      <td>72.459999</td>\n",
       "      <td>69.540001</td>\n",
       "      <td>71.580002</td>\n",
       "      <td>275688</td>\n",
       "      <td>0.0</td>\n",
       "      <td>0.0</td>\n",
       "    </tr>\n",
       "    <tr>\n",
       "      <th>2023-12-15 00:00:00-05:00</th>\n",
       "      <td>71.610001</td>\n",
       "      <td>72.220001</td>\n",
       "      <td>70.300003</td>\n",
       "      <td>71.430000</td>\n",
       "      <td>95513</td>\n",
       "      <td>0.0</td>\n",
       "      <td>0.0</td>\n",
       "    </tr>\n",
       "    <tr>\n",
       "      <th>2023-12-18 00:00:00-05:00</th>\n",
       "      <td>71.680000</td>\n",
       "      <td>74.260002</td>\n",
       "      <td>70.639999</td>\n",
       "      <td>72.470001</td>\n",
       "      <td>73941</td>\n",
       "      <td>0.0</td>\n",
       "      <td>0.0</td>\n",
       "    </tr>\n",
       "    <tr>\n",
       "      <th>2023-12-19 00:00:00-05:00</th>\n",
       "      <td>72.480003</td>\n",
       "      <td>74.010002</td>\n",
       "      <td>71.849998</td>\n",
       "      <td>73.440002</td>\n",
       "      <td>230042</td>\n",
       "      <td>0.0</td>\n",
       "      <td>0.0</td>\n",
       "    </tr>\n",
       "    <tr>\n",
       "      <th>2023-12-20 00:00:00-05:00</th>\n",
       "      <td>74.059998</td>\n",
       "      <td>75.370003</td>\n",
       "      <td>73.599998</td>\n",
       "      <td>74.220001</td>\n",
       "      <td>273364</td>\n",
       "      <td>0.0</td>\n",
       "      <td>0.0</td>\n",
       "    </tr>\n",
       "    <tr>\n",
       "      <th>2023-12-21 00:00:00-05:00</th>\n",
       "      <td>73.809998</td>\n",
       "      <td>74.580002</td>\n",
       "      <td>72.440002</td>\n",
       "      <td>73.889999</td>\n",
       "      <td>251982</td>\n",
       "      <td>0.0</td>\n",
       "      <td>0.0</td>\n",
       "    </tr>\n",
       "    <tr>\n",
       "      <th>2023-12-22 00:00:00-05:00</th>\n",
       "      <td>73.910004</td>\n",
       "      <td>74.980003</td>\n",
       "      <td>73.389999</td>\n",
       "      <td>73.559998</td>\n",
       "      <td>222600</td>\n",
       "      <td>0.0</td>\n",
       "      <td>0.0</td>\n",
       "    </tr>\n",
       "    <tr>\n",
       "      <th>2023-12-26 00:00:00-05:00</th>\n",
       "      <td>73.559998</td>\n",
       "      <td>76.180000</td>\n",
       "      <td>73.129997</td>\n",
       "      <td>75.570000</td>\n",
       "      <td>222600</td>\n",
       "      <td>0.0</td>\n",
       "      <td>0.0</td>\n",
       "    </tr>\n",
       "    <tr>\n",
       "      <th>2023-12-27 00:00:00-05:00</th>\n",
       "      <td>73.800003</td>\n",
       "      <td>74.209999</td>\n",
       "      <td>73.769997</td>\n",
       "      <td>74.209999</td>\n",
       "      <td>3031</td>\n",
       "      <td>0.0</td>\n",
       "      <td>0.0</td>\n",
       "    </tr>\n",
       "  </tbody>\n",
       "</table>\n",
       "</div>"
      ],
      "text/plain": [
       "                                Open       High        Low      Close  Volume  \\\n",
       "Date                                                                            \n",
       "2023-12-13 00:00:00-05:00  68.730003  69.889999  67.709999  69.470001  306996   \n",
       "2023-12-14 00:00:00-05:00  69.849998  72.459999  69.540001  71.580002  275688   \n",
       "2023-12-15 00:00:00-05:00  71.610001  72.220001  70.300003  71.430000   95513   \n",
       "2023-12-18 00:00:00-05:00  71.680000  74.260002  70.639999  72.470001   73941   \n",
       "2023-12-19 00:00:00-05:00  72.480003  74.010002  71.849998  73.440002  230042   \n",
       "2023-12-20 00:00:00-05:00  74.059998  75.370003  73.599998  74.220001  273364   \n",
       "2023-12-21 00:00:00-05:00  73.809998  74.580002  72.440002  73.889999  251982   \n",
       "2023-12-22 00:00:00-05:00  73.910004  74.980003  73.389999  73.559998  222600   \n",
       "2023-12-26 00:00:00-05:00  73.559998  76.180000  73.129997  75.570000  222600   \n",
       "2023-12-27 00:00:00-05:00  73.800003  74.209999  73.769997  74.209999    3031   \n",
       "\n",
       "                           Dividends  Stock Splits  \n",
       "Date                                                \n",
       "2023-12-13 00:00:00-05:00        0.0           0.0  \n",
       "2023-12-14 00:00:00-05:00        0.0           0.0  \n",
       "2023-12-15 00:00:00-05:00        0.0           0.0  \n",
       "2023-12-18 00:00:00-05:00        0.0           0.0  \n",
       "2023-12-19 00:00:00-05:00        0.0           0.0  \n",
       "2023-12-20 00:00:00-05:00        0.0           0.0  \n",
       "2023-12-21 00:00:00-05:00        0.0           0.0  \n",
       "2023-12-22 00:00:00-05:00        0.0           0.0  \n",
       "2023-12-26 00:00:00-05:00        0.0           0.0  \n",
       "2023-12-27 00:00:00-05:00        0.0           0.0  "
      ]
     },
     "execution_count": 3,
     "metadata": {},
     "output_type": "execute_result"
    }
   ],
   "source": [
    "# Stock example\n",
    "# symbol = \"SPY\"\n",
    "symbol = \"CL=F\"\n",
    "symbol_yf = yf.Ticker(symbol)\n",
    "print(symbol_yf.info)\n",
    "price_df = symbol_yf.history(period=\"max\")\n",
    "price_df = price_df.round(6)\n",
    "price_df.tail(10)"
   ]
  },
  {
   "cell_type": "code",
   "execution_count": null,
   "id": "6cef6495",
   "metadata": {
    "papermill": {
     "duration": 0.00213,
     "end_time": "2023-12-28T01:13:06.225422",
     "exception": false,
     "start_time": "2023-12-28T01:13:06.223292",
     "status": "completed"
    },
    "tags": []
   },
   "outputs": [],
   "source": []
  }
 ],
 "metadata": {
  "colab": {
   "name": "spy_ma.ipynb",
   "provenance": [],
   "toc_visible": true
  },
  "kernelspec": {
   "display_name": "Python 3 (ipykernel)",
   "language": "python",
   "name": "python3"
  },
  "language_info": {
   "codemirror_mode": {
    "name": "ipython",
    "version": 3
   },
   "file_extension": ".py",
   "mimetype": "text/x-python",
   "name": "python",
   "nbconvert_exporter": "python",
   "pygments_lexer": "ipython3",
   "version": "3.10.13"
  },
  "papermill": {
   "default_parameters": {},
   "duration": 21.471434,
   "end_time": "2023-12-28T01:13:06.454105",
   "environment_variables": {},
   "exception": null,
   "input_path": "notebooks/yfinance.ipynb",
   "output_path": "notebooks/yfinance_papermill.ipynb",
   "parameters": {},
   "start_time": "2023-12-28T01:12:44.982671",
   "version": "2.4.0"
  }
 },
 "nbformat": 4,
 "nbformat_minor": 5
}